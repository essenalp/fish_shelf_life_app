{
 "cells": [
  {
   "cell_type": "code",
   "execution_count": 1,
   "id": "796c9a9d-7655-4b81-b1ce-62ef851c7cf3",
   "metadata": {},
   "outputs": [],
   "source": [
    "import pandas as pd\n",
    "import numpy as np\n",
    "\n",
    "# Örnek veri: 100 numune, 5 özellik\n",
    "np.random.seed(42)\n",
    "X = pd.DataFrame({\n",
    "    'tvb_n': np.random.uniform(5, 50, 100),\n",
    "    'tba': np.random.uniform(0.1, 5, 100),\n",
    "    'ph': np.random.uniform(6, 7.5, 100),\n",
    "    'aw': np.random.uniform(0.95, 0.99, 100),\n",
    "    'delta_temp': np.random.uniform(0, 5, 100)\n",
    "})\n",
    "\n",
    "# Hedef değişken: raf ömrü kısalması gün olarak\n",
    "y = 10 - 0.1*X['tvb_n'] - 0.5*X['tba'] + 0.2*X['ph'] + 0.1*X['aw'] - 0.05*X['delta_temp']\n",
    "y = y + np.random.normal(0, 0.5, 100)  # biraz rastgele gürültü\n"
   ]
  },
  {
   "cell_type": "code",
   "execution_count": 2,
   "id": "a59f927b-59f6-4b40-b812-bda331d111e8",
   "metadata": {},
   "outputs": [
    {
     "name": "stdout",
     "output_type": "stream",
     "text": [
      "Random Forest modeli kaydedildi!\n"
     ]
    }
   ],
   "source": [
    "from sklearn.ensemble import RandomForestRegressor\n",
    "import joblib\n",
    "\n",
    "# Model oluştur ve eğit\n",
    "rf = RandomForestRegressor(n_estimators=100, random_state=42)\n",
    "rf.fit(X, y)\n",
    "\n",
    "# Modeli kaydet\n",
    "joblib.dump(rf, \"models/rf_model.joblib\")\n",
    "print(\"Random Forest modeli kaydedildi!\")\n"
   ]
  },
  {
   "cell_type": "code",
   "execution_count": 3,
   "id": "b5dae663-4960-49b1-b647-104eaffcfd27",
   "metadata": {},
   "outputs": [
    {
     "name": "stdout",
     "output_type": "stream",
     "text": [
      "XGBoost modeli kaydedildi!\n"
     ]
    }
   ],
   "source": [
    "import xgboost as xgb\n",
    "\n",
    "xgb_model = xgb.XGBRegressor(n_estimators=100, random_state=42)\n",
    "xgb_model.fit(X, y)\n",
    "\n",
    "# Modeli kaydet\n",
    "joblib.dump(xgb_model, \"models/xgb_model.joblib\")\n",
    "print(\"XGBoost modeli kaydedildi!\")\n"
   ]
  },
  {
   "cell_type": "code",
   "execution_count": null,
   "id": "bff8b435-30a8-4ccd-87a4-1f6bd2b17c61",
   "metadata": {},
   "outputs": [],
   "source": []
  },
  {
   "cell_type": "code",
   "execution_count": null,
   "id": "29629f67-1968-4024-9905-4bba6a5de624",
   "metadata": {},
   "outputs": [],
   "source": []
  },
  {
   "cell_type": "code",
   "execution_count": null,
   "id": "9fdf0a5b-73d3-47b7-9283-de538b8dac8c",
   "metadata": {},
   "outputs": [],
   "source": []
  },
  {
   "cell_type": "code",
   "execution_count": null,
   "id": "72da443e-14f7-4e59-937e-922db991374e",
   "metadata": {},
   "outputs": [],
   "source": []
  }
 ],
 "metadata": {
  "kernelspec": {
   "display_name": "Python [conda env:base] *",
   "language": "python",
   "name": "conda-base-py"
  },
  "language_info": {
   "codemirror_mode": {
    "name": "ipython",
    "version": 3
   },
   "file_extension": ".py",
   "mimetype": "text/x-python",
   "name": "python",
   "nbconvert_exporter": "python",
   "pygments_lexer": "ipython3",
   "version": "3.13.5"
  }
 },
 "nbformat": 4,
 "nbformat_minor": 5
}
