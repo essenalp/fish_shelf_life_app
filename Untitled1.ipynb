{
 "cells": [
  {
   "cell_type": "code",
   "execution_count": 3,
   "id": "5fb900f8-0a0d-4da9-b5bf-44f7d3ea8b9f",
   "metadata": {},
   "outputs": [],
   "source": [
    "import pandas as pd\n",
    "import numpy as np\n",
    "\n",
    "# Batch ve tür sayısı\n",
    "n_batches = 20\n",
    "n_samples_per_batch = 30\n",
    "species = [\"Somon\", \"Levrek\"]\n",
    "\n",
    "rows = []\n",
    "for batch_id in range(n_batches):\n",
    "    for i in range(n_samples_per_batch):\n",
    "        sp = np.random.choice(species)\n",
    "        hours_4C = np.random.randint(0, 24)\n",
    "        hours_8C = np.random.randint(0, 24)\n",
    "        hours_12C = np.random.randint(0, 24)\n",
    "        remaining_shelf_life = max(0, 10 - 0.2*hours_8C - 0.4*hours_12C)  # basit simülasyon\n",
    "        rows.append([batch_id, sp, hours_4C, hours_8C, hours_12C, remaining_shelf_life])\n",
    "\n",
    "df = pd.DataFrame(rows, columns=[\"batch_id\", \"species\", \"hours_4C\", \"hours_8C\", \"hours_12C\", \"remaining_shelf_life\"])\n",
    "\n",
    "# Features ve target ayrı\n",
    "X = df[[\"species\", \"hours_4C\", \"hours_8C\", \"hours_12C\"]]\n",
    "y = df[\"remaining_shelf_life\"]\n",
    "groups = df[\"batch_id\"]\n",
    "\n",
    "# Kaydet\n",
    "X.to_csv(\"features.csv\", index=False)\n",
    "y.to_csv(\"target.csv\", index=False)\n",
    "groups.to_csv(\"groups.csv\", index=False)\n"
   ]
  },
  {
   "cell_type": "code",
   "execution_count": 4,
   "id": "871f1912-5e72-4b52-9fa1-619aa60c368d",
   "metadata": {},
   "outputs": [],
   "source": [
    "# Gerekli kütüphaneler\n",
    "import pandas as pd\n",
    "import numpy as np\n",
    "from sklearn.model_selection import train_test_split, GroupKFold\n",
    "from sklearn.ensemble import RandomForestRegressor\n",
    "import xgboost as xgb\n",
    "from sklearn.metrics import mean_absolute_error, mean_squared_error\n",
    "import shap\n",
    "import joblib\n",
    "import matplotlib.pyplot as plt\n",
    "\n",
    "# Örnek veri\n",
    "X = pd.read_csv(\"features.csv\")   # Özellikler (sıcaklık saatleri, tür vs.)\n",
    "y = pd.read_csv(\"target.csv\")     # Hedef: raf ömrü\n",
    "groups = pd.read_csv(\"groups.csv\")  # batch ID gibi gruplama (GroupKFold için)\n"
   ]
  },
  {
   "cell_type": "code",
   "execution_count": null,
   "id": "8a2fb8f1-7a4b-4450-86f2-4e5932db4cd7",
   "metadata": {},
   "outputs": [],
   "source": []
  },
  {
   "cell_type": "code",
   "execution_count": null,
   "id": "b359f700-4908-4770-9fca-490e1588ebc3",
   "metadata": {},
   "outputs": [],
   "source": []
  }
 ],
 "metadata": {
  "kernelspec": {
   "display_name": "Python [conda env:base] *",
   "language": "python",
   "name": "conda-base-py"
  },
  "language_info": {
   "codemirror_mode": {
    "name": "ipython",
    "version": 3
   },
   "file_extension": ".py",
   "mimetype": "text/x-python",
   "name": "python",
   "nbconvert_exporter": "python",
   "pygments_lexer": "ipython3",
   "version": "3.13.5"
  }
 },
 "nbformat": 4,
 "nbformat_minor": 5
}
